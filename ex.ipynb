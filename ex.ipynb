{
 "cells": [
  {
   "cell_type": "code",
   "id": "initial_id",
   "metadata": {
    "collapsed": true,
    "ExecuteTime": {
     "end_time": "2025-07-01T05:43:35.906160Z",
     "start_time": "2025-07-01T05:43:30.355602Z"
    }
   },
   "source": [
    "import pandas as pd\n",
    "\n",
    "df = pd.read_csv(\"/Users/johyeon-u/PycharmProjects/DACON/open/train.csv\")\n",
    "print(df.head())\n",
    "print(df.columns)\n"
   ],
   "outputs": [
    {
     "name": "stdout",
     "output_type": "stream",
     "text": [
      "              title                                          full_text  \\\n",
      "0            카호올라웨섬  카호올라웨섬은 하와이 제도를 구성하는 8개의 화산섬 가운데 하나로 면적은 115.5...   \n",
      "1              청색거성  천문학에서 청색거성(靑色巨星, )은 광도 분류에서 III형(거성) 또는 II형(밝은...   \n",
      "2  엘자스-로트링겐 평의회 공화국  엘자스-로트링겐 평의회 공화국은 1차대전 말기 독일 혁명 와중에 엘자스-로트링겐에서...   \n",
      "3        윌리엄 페니 브룩스  윌리엄 페니 브룩스(, 1809년 8월 13일 ~ 1895년 12월 11일)는 잉글...   \n",
      "4               미그로  미그로 또는 미그로스(\"Migros\")는 스위스 최대 소매 회사이자, 최대 슈퍼마켓...   \n",
      "\n",
      "   generated  \n",
      "0          0  \n",
      "1          0  \n",
      "2          0  \n",
      "3          0  \n",
      "4          0  \n",
      "Index(['title', 'full_text', 'generated'], dtype='object')\n"
     ]
    }
   ],
   "execution_count": 3
  },
  {
   "metadata": {
    "ExecuteTime": {
     "end_time": "2025-07-01T05:44:01.131412Z",
     "start_time": "2025-07-01T05:44:01.105676Z"
    }
   },
   "cell_type": "code",
   "source": [
    "test_df = pd.read_csv(\"/Users/johyeon-u/PycharmProjects/DACON/open/test.csv\")\n",
    "print(test_df.columns)\n"
   ],
   "id": "234cdac421998646",
   "outputs": [
    {
     "name": "stdout",
     "output_type": "stream",
     "text": [
      "Index(['ID', 'title', 'paragraph_index', 'paragraph_text'], dtype='object')\n"
     ]
    }
   ],
   "execution_count": 5
  }
 ],
 "metadata": {
  "kernelspec": {
   "display_name": "Python 3",
   "language": "python",
   "name": "python3"
  },
  "language_info": {
   "codemirror_mode": {
    "name": "ipython",
    "version": 2
   },
   "file_extension": ".py",
   "mimetype": "text/x-python",
   "name": "python",
   "nbconvert_exporter": "python",
   "pygments_lexer": "ipython2",
   "version": "2.7.6"
  }
 },
 "nbformat": 4,
 "nbformat_minor": 5
}
